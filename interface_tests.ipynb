{
 "cells": [
  {
   "cell_type": "code",
   "execution_count": 2,
   "metadata": {},
   "outputs": [],
   "source": [
    "import streamlit as st\n",
    "import sys\n",
    "sys.path.append('C:\\\\Users\\\\Ella\\\\Ella-Kopie\\\\Studium\\\\Semester9\\\\Job\\\\Mondrian extension for CSV Visualization')\n",
    "from app import app\n",
    "\n",
    "app()\n",
    "#st.write('Trying out streamlit')"
   ]
  }
 ],
 "metadata": {
  "interpreter": {
   "hash": "6008b90b7025e725da056a8624d6dba4b33e5784f93251de6bbdc7cd44b69407"
  },
  "kernelspec": {
   "display_name": "Python 3.9.7 64-bit ('csv-coloring': conda)",
   "language": "python",
   "name": "python3"
  },
  "language_info": {
   "codemirror_mode": {
    "name": "ipython",
    "version": 3
   },
   "file_extension": ".py",
   "mimetype": "text/x-python",
   "name": "python",
   "nbconvert_exporter": "python",
   "pygments_lexer": "ipython3",
   "version": "3.9.7"
  },
  "orig_nbformat": 4
 },
 "nbformat": 4,
 "nbformat_minor": 2
}
